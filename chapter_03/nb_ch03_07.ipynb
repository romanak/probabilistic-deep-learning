{
  "nbformat": 4,
  "nbformat_minor": 0,
  "metadata": {
    "colab": {
      "name": "nb_ch03_07.ipynb",
      "provenance": [],
      "collapsed_sections": []
    },
    "kernelspec": {
      "display_name": "Python 3",
      "language": "python",
      "name": "python3"
    },
    "language_info": {
      "codemirror_mode": {
        "name": "ipython",
        "version": 3
      },
      "file_extension": ".py",
      "mimetype": "text/x-python",
      "name": "python",
      "nbconvert_exporter": "python",
      "pygments_lexer": "ipython3",
      "version": "3.6.8"
    }
  },
  "cells": [
    {
      "cell_type": "markdown",
      "metadata": {
        "colab_type": "text",
        "id": "O2sP8Kwe7L9Z"
      },
      "source": [
        "## Fitting a linear regression model with Autograd\n",
        "\n",
        "**Goal:** In this notebook you will see how to use the Autograd library from python to fit the parameters (slope and intercept) of a simple linear regression model via gradient descent (GD). \n",
        "\n",
        "**Usage:** The idea of the notebook is that you try to understand the provided code by running it, checking the output and playing with it by slightly changing the code and rerunning it. \n",
        "\n",
        "**Dataset:** You work again with the systolic blood pressure and age data of 33 American women, which is generated and visualized in the upper part of the notebook. \n",
        "\n",
        "**Content:**\n",
        "\n",
        "* fit a linear model via the sklearn machine learning library of python to get the fitted values of the intercept and slope as reference. \n",
        "\n",
        "* use the autograd library and the contained *grad* function to fit the parameters of the simple linear model via GD with the objective to minimize the MSE loss. \n",
        "    * define the mse loss function \n",
        "    * determine the gradients of the loss w.r.t. the parameters via automatic differentiation\n",
        "    * use these gradients to update the parameter values via the update formula\n",
        "    * iterate over the two former steps for many steps and check the current values of the estimated model parameters and the loss after each updatestep \n",
        "    * verify that the estimated parameter values converge to the values which you got from the sklearn fit.  \n",
        "\n",
        "\n",
        "\n",
        "[open in colab](https://colab.research.google.com/github/tensorchiefs/dl_book/blob/master/chapter_03/nb_ch03_07.ipynb)"
      ]
    },
    {
      "cell_type": "code",
      "metadata": {
        "colab_type": "code",
        "id": "RMlU4PJJ5QO7",
        "colab": {}
      },
      "source": [
        "import numpy as np\n",
        "import matplotlib.pyplot as plt\n",
        "%matplotlib inline\n",
        "plt.style.use('default')\n",
        "from sklearn.linear_model import LinearRegression"
      ],
      "execution_count": 0,
      "outputs": []
    },
    {
      "cell_type": "markdown",
      "metadata": {
        "colab_type": "text",
        "id": "p3c9bh7zMVhP"
      },
      "source": [
        "Here we read in the systolic blood pressure and the age of the 33 American women in our dataset. Then we use the sklearn library to find the optimal values for the slope a and the intercept b."
      ]
    },
    {
      "cell_type": "code",
      "metadata": {
        "colab_type": "code",
        "id": "RvINwW1vydo9",
        "colab": {}
      },
      "source": [
        "# Blood Pressure data\n",
        "x = [22, 41, 52, 23, 41, 54, 24, 46, 56, 27, 47, 57, 28, 48, 58,  9, \n",
        "     49, 59, 30, 49, 63, 32, 50, 67, 33, 51, 71, 35, 51, 77, 40, 51, 81]\n",
        "y = [131, 139, 128, 128, 171, 105, 116, 137, 145, 106, 111, 141, 114, \n",
        "     115, 153, 123, 133, 157, 117, 128, 155, 122, 183,\n",
        "     176,  99, 130, 172, 121, 133, 178, 147, 144, 217] \n",
        "x = np.asarray(x, np.float32) \n",
        "y = np.asarray(y, np.float32)"
      ],
      "execution_count": 0,
      "outputs": []
    },
    {
      "cell_type": "code",
      "metadata": {
        "colab_type": "code",
        "id": "OurbybEoydpB",
        "outputId": "8e1c7227-a342-4fb1-8813-e906ab50fa2e",
        "colab": {
          "base_uri": "https://localhost:8080/",
          "height": 490
        }
      },
      "source": [
        "plt.scatter(x=x,y=y)\n",
        "plt.title(\"blood pressure vs age\")\n",
        "plt.xlabel(\"x (age)\")\n",
        "plt.ylabel(\"y (sbp)\")\n",
        "\n",
        "model = LinearRegression()\n",
        "res = model.fit(x.reshape((len(x),1)), y)\n",
        "predictions = model.predict(x.reshape((len(x),1)))\n",
        "plt.plot(x, predictions)\n",
        "plt.show()\n",
        "print(\"intercept = \",res.intercept_,\"solpe = \", res.coef_[0],)"
      ],
      "execution_count": 0,
      "outputs": [
        {
          "output_type": "display_data",
          "data": {
            "image/png": "[encoded data removed]",
            "text/plain": [
              "<Figure size 432x288 with 1 Axes>"
            ]
          },
          "metadata": {
            "tags": [],
            "needs_background": "light"
          }
        },
        {
          "output_type": "stream",
          "text": [
            "intercept =  87.67143 solpe =  1.1050216\n"
          ],
          "name": "stdout"
        }
      ]
    },
    {
      "cell_type": "markdown",
      "metadata": {
        "colab_type": "text",
        "id": "qDre_3MNSFtJ"
      },
      "source": [
        "## Autograd"
      ]
    },
    {
      "cell_type": "markdown",
      "metadata": {
        "colab_type": "text",
        "id": "Pu3bqKzRDQqw"
      },
      "source": [
        "Now we want to use Autograd, a library for automatic differentiation. First we need to install it. Then we again can define our mse loss and calculate the minimal loss with the optimal values for the slope a and the inercept b from above."
      ]
    },
    {
      "cell_type": "code",
      "metadata": {
        "colab_type": "code",
        "id": "gas_UQxrDOFh",
        "outputId": "b0173f9b-8127-4641-ef2e-51277bda9736",
        "colab": {
          "base_uri": "https://localhost:8080/",
          "height": 69
        }
      },
      "source": [
        "!pip install autograd #You might need to install autograd"
      ],
      "execution_count": 0,
      "outputs": [
        {
          "output_type": "stream",
          "text": [
            "Requirement already satisfied: autograd in /usr/local/lib/python3.6/dist-packages (1.3)\n",
            "Requirement already satisfied: future>=0.15.2 in /usr/local/lib/python3.6/dist-packages (from autograd) (0.18.2)\n",
            "Requirement already satisfied: numpy>=1.12 in /usr/local/lib/python3.6/dist-packages (from autograd) (1.17.2)\n",
            "\u001b[33mWARNING: You are using pip version 19.2.3, however version 19.3.1 is available.\n",
            "You should consider upgrading via the 'pip install --upgrade pip' command.\u001b[0m\n"
          ],
          "name": "stdout"
        }
      ]
    },
    {
      "cell_type": "code",
      "metadata": {
        "colab_type": "code",
        "id": "syWi2amOR-pE",
        "colab": {}
      },
      "source": [
        "import autograd.numpy as np\n",
        "from autograd import grad"
      ],
      "execution_count": 0,
      "outputs": []
    },
    {
      "cell_type": "code",
      "metadata": {
        "colab_type": "code",
        "id": "jyunhm7wR-9G",
        "colab": {}
      },
      "source": [
        "def loss(a,b):\n",
        "  y_hat = a*x + b\n",
        "  return np.sum((y_hat - y)**2) / len(x)"
      ],
      "execution_count": 0,
      "outputs": []
    },
    {
      "cell_type": "code",
      "metadata": {
        "colab_type": "code",
        "id": "yaLCW1AcX6pr",
        "outputId": "6d4be376-7c45-4a14-9abc-1a510f178411",
        "colab": {
          "base_uri": "https://localhost:8080/",
          "height": 35
        }
      },
      "source": [
        "loss(1.1050216,87.67143) #minimal loss for the optimal valuese for slope a and intercept b"
      ],
      "execution_count": 0,
      "outputs": [
        {
          "output_type": "execute_result",
          "data": {
            "text/plain": [
              "349.2007871685606"
            ]
          },
          "metadata": {
            "tags": []
          },
          "execution_count": 7
        }
      ]
    },
    {
      "cell_type": "markdown",
      "metadata": {
        "colab_type": "text",
        "id": "OU3rc92DEZmv"
      },
      "source": [
        "Now we define that we want to have the gradients of the loss w.r.t to our two model parameters, the slope a and the intercept b. In the nex cell we print the gradient of the loss w.r.t to a and gradient of the loss w.r.t to b. Note that we calculated the loss for all data points and therefore we get diffrent gradients then in nb_04, where we only used one datapoint. Autograds *grad* function, takes a function as input and returs a function that computes its derivative. You can use the derivative function to compute the gradient at a specific position of the loss function."
      ]
    },
    {
      "cell_type": "code",
      "metadata": {
        "colab_type": "code",
        "id": "lltyH-eRUPSn",
        "outputId": "81d14be0-77e5-4a4a-cf6a-ac972b36e402",
        "colab": {
          "base_uri": "https://localhost:8080/",
          "height": 52
        }
      },
      "source": [
        "grad_loss_a = grad(loss,0)\n",
        "grad_loss_b = grad(loss,1)\n",
        "print(grad_loss_a(0.,139.))\n",
        "print(grad_loss_b(0.,139.))"
      ],
      "execution_count": 0,
      "outputs": [
        {
          "output_type": "stream",
          "text": [
            "-553.0909090909091\n",
            "0.7272727272727257\n"
          ],
          "name": "stdout"
        }
      ]
    },
    {
      "cell_type": "markdown",
      "metadata": {
        "colab_type": "text",
        "id": "nrmK9PP0El3L"
      },
      "source": [
        "Now, let's use gradient descent to optimize the slope a and the intercept b. The start values are a=0 and b=139  (139 is the mean of the blood pressure and slope a=0 implies that the model predicts the mean for each age). Our learning rate eta is 0.0004 and we do 80000 updatesteps with all 33 observations. "
      ]
    },
    {
      "cell_type": "code",
      "metadata": {
        "colab_type": "code",
        "id": "8odVy_28U39q",
        "outputId": "0aae3fc9-d83b-472b-d535-906cf29058af",
        "colab": {
          "base_uri": "https://localhost:8080/",
          "height": 295
        }
      },
      "source": [
        "eta = 0.0004\n",
        "a = 0.0\n",
        "b = 139.0\n",
        "for i in range(80000):\n",
        "    grad_a, grad_b  = grad_loss_a(a,b),grad_loss_b(a,b)\n",
        "    a = a - eta * grad_a\n",
        "    b = b - eta * grad_b\n",
        "    if (i % 5000 == 0):\n",
        "      print(\"Epoch:\",i, \"slope=\",a,\"intercept=\",b,\"gradient_a\", grad_a, \"gradient_b\",grad_b, \"mse=\", loss(a,b))\n"
      ],
      "execution_count": 0,
      "outputs": [
        {
          "output_type": "stream",
          "text": [
            "Epoch: 0 slope= 0.22123636363636365 intercept= 138.99970909090908 gradient_a -553.0909090909091 gradient_b 0.7272727272727257 mse= 668.1919389204545\n",
            "Epoch: 5000 slope= 0.47009054898348496 intercept= 120.60789269261207 gradient_a -0.1413740678267459 gradient_b 7.305982185132575 mse= 469.551787405303\n",
            "Epoch: 10000 slope= 0.6975811188668976 intercept= 108.8070221024948 gradient_a -0.09035931211531079 gradient_b 4.688314726858429 mse= 398.7600615530303\n",
            "Epoch: 15000 slope= 0.8435640896883931 intercept= 101.23430788222818 gradient_a -0.059386282256184586 gradient_b 3.008502382220645 mse= 369.60884232954544\n",
            "Epoch: 20000 slope= 0.9372421279444895 intercept= 96.37483582948659 gradient_a -0.03760736638852791 gradient_b 1.9305910052675181 mse= 357.6046401515151\n",
            "Epoch: 25000 slope= 0.9973560807661642 intercept= 93.25647324940135 gradient_a -0.023206306226256856 gradient_b 1.2388925263375947 mse= 352.6614583333333\n",
            "Epoch: 30000 slope= 1.0359316219445518 intercept= 91.25539471546622 gradient_a -0.014059355764715065 gradient_b 0.7950245250355108 mse= 350.6258581912879\n",
            "Epoch: 35000 slope= 1.0606859750458772 intercept= 89.97128639452472 gradient_a -0.008185646750661135 gradient_b 0.5101887096058237 mse= 349.78767163825756\n",
            "Epoch: 40000 slope= 1.0765710319750297 intercept= 89.1472636781643 gradient_a -0.004884199662683386 gradient_b 0.3273990515506626 mse= 349.44247159090907\n",
            "Epoch: 45000 slope= 1.086764409105711 intercept= 88.61848164561941 gradient_a -0.00238684451940685 gradient_b 0.21010982629024655 mse= 349.30036695075756\n",
            "Epoch: 50000 slope= 1.0933061270049231 intercept= 88.27915791866468 gradient_a -0.002976851029870886 gradient_b 0.1348016912286929 mse= 349.2418323863636\n",
            "Epoch: 55000 slope= 1.0975039356578573 intercept= 88.06141114039603 gradient_a -0.003163655598996229 gradient_b 0.08647849343039882 mse= 349.21771425189394\n",
            "Epoch: 60000 slope= 1.1001973614317064 intercept= 87.9216812918 gradient_a -0.0012507583156491364 gradient_b 0.05551008744673336 mse= 349.2078598484849\n",
            "Epoch: 65000 slope= 1.1019258319276868 intercept= 87.83201547870098 gradient_a -0.000584457859901022 gradient_b 0.035625110973010354 mse= 349.2037168560606\n",
            "Epoch: 70000 slope= 1.1030352583451921 intercept= 87.77447621330529 gradient_a -0.0010107791785287645 gradient_b 0.022847955877130843 mse= 349.20205965909093\n",
            "Epoch: 75000 slope= 1.1037471182158671 intercept= 87.73755278209346 gradient_a -0.0011222145773785996 gradient_b 0.014652598987926702 mse= 349.2013790246212\n"
          ],
          "name": "stdout"
        }
      ]
    },
    {
      "cell_type": "markdown",
      "metadata": {
        "colab_type": "text",
        "id": "nBEvvFxtFvg6"
      },
      "source": [
        "Let's look at the final values for the slope a, the intercept b and the mse loss. We know form the closed formula solution that:\n",
        "\n",
        "1.   optimal value for a: 1.1050216\n",
        "2.   optimal value for b: 87.67143\n",
        "3.   minimal loss: 349.200787168560\n",
        "\n",
        "After 80000 update steps we are very close to the optimal values\n"
      ]
    },
    {
      "cell_type": "code",
      "metadata": {
        "colab_type": "code",
        "id": "omFXVvFIW3aT",
        "outputId": "7b59f33d-695f-4563-8f30-94cde06778b9",
        "colab": {
          "base_uri": "https://localhost:8080/",
          "height": 35
        }
      },
      "source": [
        "print(a,b, loss(a,b))"
      ],
      "execution_count": 0,
      "outputs": [
        {
          "output_type": "stream",
          "text": [
            "1.1042025997277585 87.71386248723839 349.20108309659093\n"
          ],
          "name": "stdout"
        }
      ]
    },
    {
      "cell_type": "code",
      "metadata": {
        "id": "x0E8x7MILnDj",
        "colab_type": "code",
        "colab": {}
      },
      "source": [
        ""
      ],
      "execution_count": 0,
      "outputs": []
    }
  ]
}