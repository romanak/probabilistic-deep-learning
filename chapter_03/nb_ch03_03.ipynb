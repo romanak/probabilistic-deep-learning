{
  "nbformat": 4,
  "nbformat_minor": 0,
  "metadata": {
    "colab": {
      "name": "nb_ch03_03.ipynb",
      "provenance": [],
      "collapsed_sections": []
    },
    "language_info": {
      "codemirror_mode": {
        "name": "ipython",
        "version": 3
      },
      "file_extension": ".py",
      "mimetype": "text/x-python",
      "name": "python",
      "nbconvert_exporter": "python",
      "pygments_lexer": "ipython3",
      "version": "3.5.2"
    },
    "kernelspec": {
      "display_name": "Python 3",
      "language": "python",
      "name": "python3"
    }
  },
  "cells": [
    {
      "cell_type": "markdown",
      "metadata": {
        "colab_type": "text",
        "id": "O2sP8Kwe7L9Z"
      },
      "source": [
        "## Fitting a linear regression model with TensorFlow\n",
        "\n",
        "**Goal:** In this notebook you will see how to use TensorFlow to fit the parameters (slope and intercept) of a simple linear regression model via gradient descent (GD). \n",
        "\n",
        "**Usage:** The idea of the notebook is that you try to understand the provided code by running it, checking the output and playing with it by slightly changing the code and rerunning it. \n",
        "\n",
        "**Dataset:** You work again with the systolic blood pressure and age data of 33 American women, which is generated and visualized in the upper part of the notebook. \n",
        "\n",
        "**Content:**\n",
        "\n",
        "* fit a linear model via the sklearn machine learning library of python to get the fitted values of the intercept and slope as reference. \n",
        "\n",
        "* use the TensorFlow library to fit the parameter of the simple linear model via GD with the objective to minimize the MSE loss. \n",
        "    * define the computational graph of the model\n",
        "    * define the loss and the optimizer\n",
        "    * visualize the computational graph in tensorboard\n",
        "    * fit the model parameters via GD and check the current values of the estimated model parameters and the loss after each updatestep\n",
        "    * verify that the estimated parameters converge to the values which you got from the sklearn fit.  \n",
        "\n",
        "\n",
        "[open in colab](https://colab.research.google.com/github/tensorchiefs/dl_book/blob/master/chapter_03/nb_ch03_03.ipynb)\n"
      ]
    },
    {
      "cell_type": "markdown",
      "metadata": {
        "colab_type": "text",
        "id": "IxDnHMLUL64a"
      },
      "source": [
        "#### Imports"
      ]
    },
    {
      "cell_type": "code",
      "metadata": {
        "id": "wT-WLoi3XUyt",
        "colab_type": "code",
        "colab": {}
      },
      "source": [
        "try: #If running in colab \n",
        "    import google.colab\n",
        "    IN_COLAB = True \n",
        "    %tensorflow_version 1.x\n",
        "except:\n",
        "    IN_COLAB = False"
      ],
      "execution_count": 0,
      "outputs": []
    },
    {
      "cell_type": "code",
      "metadata": {
        "id": "I0TuJoV0XVXm",
        "colab_type": "code",
        "outputId": "74458df9-0d23-44d5-e294-e71b0373140f",
        "colab": {
          "base_uri": "https://localhost:8080/",
          "height": 34
        }
      },
      "source": [
        "import tensorflow as tf\n",
        "if (tf.__version__.startswith('2')): #Checking if tf 2.0 is installed\n",
        "    print('Please install tensorflow 1.x to run this notebook')\n",
        "print('Tensorflow version: ',tf.__version__, ' running in colab?: ', IN_COLAB)"
      ],
      "execution_count": 0,
      "outputs": [
        {
          "output_type": "stream",
          "text": [
            "Tensorflow version:  1.15.0  running in colab?:  True\n"
          ],
          "name": "stdout"
        }
      ]
    },
    {
      "cell_type": "code",
      "metadata": {
        "colab_type": "code",
        "id": "2Ns6420jRmbQ",
        "colab": {}
      },
      "source": [
        "import numpy as np\n",
        "import matplotlib.pyplot as plt\n",
        "%matplotlib inline\n",
        "plt.style.use('default')\n",
        "from sklearn.linear_model import LinearRegression"
      ],
      "execution_count": 0,
      "outputs": []
    },
    {
      "cell_type": "markdown",
      "metadata": {
        "colab_type": "text",
        "id": "p3c9bh7zMVhP"
      },
      "source": [
        "Here we read in the systolic blood pressure and the age of the 33 American women in our dataset. Then we use the sklearn library to find the optimal values for the slope a and the intercept b."
      ]
    },
    {
      "cell_type": "code",
      "metadata": {
        "colab_type": "code",
        "id": "h5NlSPsPSFR-",
        "colab": {}
      },
      "source": [
        "# Blood Pressure data\n",
        "x = [22, 41, 52, 23, 41, 54, 24, 46, 56, 27, 47, 57, 28, 48, 58,  9, \n",
        "     49, 59, 30, 49, 63, 32, 50, 67, 33, 51, 71, 35, 51, 77, 40, 51, 81]\n",
        "y = [131, 139, 128, 128, 171, 105, 116, 137, 145, 106, 111, 141, 114, \n",
        "     115, 153, 123, 133, 157, 117, 128, 155, 122, 183,\n",
        "     176,  99, 130, 172, 121, 133, 178, 147, 144, 217] \n",
        "x = np.asarray(x, np.float32) \n",
        "y = np.asarray(y, np.float32)"
      ],
      "execution_count": 0,
      "outputs": []
    },
    {
      "cell_type": "code",
      "metadata": {
        "colab_type": "code",
        "id": "cFR-y-HER-Uo",
        "outputId": "afeda56c-5b7b-4be8-c00d-9622e67bffd6",
        "colab": {
          "base_uri": "https://localhost:8080/",
          "height": 489
        }
      },
      "source": [
        "plt.scatter(x=x,y=y)\n",
        "plt.title(\"blood pressure vs age\")\n",
        "plt.xlabel(\"x (age)\")\n",
        "plt.ylabel(\"y (sbp)\")\n",
        "\n",
        "model = LinearRegression()\n",
        "res = model.fit(x.reshape((len(x),1)), y)\n",
        "predictions = model.predict(x.reshape((len(x),1)))\n",
        "plt.plot(x, predictions)\n",
        "plt.show()\n",
        "print(\"intercept = \",res.intercept_,\"solpe = \", res.coef_[0],)"
      ],
      "execution_count": 0,
      "outputs": [
        {
          "output_type": "display_data",
          "data": {
            "image/png": "[encoded data removed]",
            "text/plain": [
              "<Figure size 640x480 with 1 Axes>"
            ]
          },
          "metadata": {
            "tags": []
          }
        },
        {
          "output_type": "stream",
          "text": [
            "intercept =  87.67143 solpe =  1.1050216\n"
          ],
          "name": "stdout"
        }
      ]
    },
    {
      "cell_type": "markdown",
      "metadata": {
        "colab_type": "text",
        "id": "oxlyNp9uSKYd"
      },
      "source": [
        "## Tensorflow\n",
        "\n",
        "We now use Tensorflow to first define the computational graph, then we will run the graph and automatically get the gradients of the loss w.r.t the variables to update them."
      ]
    },
    {
      "cell_type": "code",
      "metadata": {
        "colab_type": "code",
        "id": "rAaTBfjxo_Vq",
        "outputId": "093384bc-eeb7-4d48-8d80-bb4ebc9d763b",
        "colab": {
          "base_uri": "https://localhost:8080/",
          "height": 34
        }
      },
      "source": [
        "import tensorflow as tf\n",
        "print(tf.__version__)"
      ],
      "execution_count": 0,
      "outputs": [
        {
          "output_type": "stream",
          "text": [
            "1.15.0\n"
          ],
          "name": "stdout"
        }
      ]
    },
    {
      "cell_type": "markdown",
      "metadata": {
        "colab_type": "text",
        "id": "7lCheoSrpEmD"
      },
      "source": [
        "#### In Tensorflow we need to define the computational graph first\n",
        "\n"
      ]
    },
    {
      "cell_type": "markdown",
      "metadata": {
        "id": "9gegiCFl2Nk9",
        "colab_type": "text"
      },
      "source": [
        "#### Listing 3.2  Construction of the computational graph in TensorFlow                                                                                                              \n"
      ]
    },
    {
      "cell_type": "code",
      "metadata": {
        "colab_type": "code",
        "id": "LiNOds2vSOz8",
        "colab": {}
      },
      "source": [
        "# x,y are one dimensional numpy arrays\n",
        "# Defining the graph (construction phase)\n",
        "\n",
        "tf.reset_default_graph()                                   # “Wipe the blackboard”, construct a new graph\n",
        "a_  = tf.Variable(0.0, name='a_var')                       # Variables, with starting values, will be optimized later\n",
        "b_  = tf.Variable(139.0, name='b_var')                     # we name them so that they look nicer in the graph\n",
        "x_  = tf.constant(x, name='x_const')                       # Constants, these are fixed tensors holding the data values and cannot be changed by the optimization\n",
        "y_  = tf.constant(y, name='y_const')  \n",
        "\n",
        "y_hat_ = a_*x_ + b_                                        # we symbolically calculate y_hat    \n",
        "loss_ = tf.reduce_mean(tf.square(y_ - y_hat_))             #The final result, the MSE. Still symbolical\n",
        "\n",
        "writer = tf.summary.FileWriter(\"linreg/\", tf.get_default_graph())\n",
        "writer.close()"
      ],
      "execution_count": 0,
      "outputs": []
    },
    {
      "cell_type": "code",
      "metadata": {
        "colab_type": "code",
        "id": "6cyWFC0XqLD0",
        "outputId": "876ff0fa-ecac-491b-a3b4-a829a540c1fc",
        "colab": {
          "base_uri": "https://localhost:8080/",
          "height": 34
        }
      },
      "source": [
        "!ls linreg"
      ],
      "execution_count": 0,
      "outputs": [
        {
          "output_type": "stream",
          "text": [
            "events.out.tfevents.1577458979.33fd69aed414\n"
          ],
          "name": "stdout"
        }
      ]
    },
    {
      "cell_type": "markdown",
      "metadata": {
        "colab_type": "text",
        "id": "uilwX07SqYdZ"
      },
      "source": [
        "#### Displaying the computational graph in TensorBord with colab\n",
        "\n",
        "If you are using colab, it's currently (November 2018), there is no straight forward way to show the graph in TensorBoard. However, there is the possibility to tunnel from colab to your local machine. See  https://www.dlology.com/blog/quick-guide-to-run-tensorboard-in-google-colab/ or https://stackoverflow.com/questions/47818822/can-i-use-tensorboard-with-google-colab. We will need to install some things, just run the next 3 cells."
      ]
    },
    {
      "cell_type": "code",
      "metadata": {
        "colab_type": "code",
        "id": "B2xS6LEKtOsJ",
        "outputId": "fe61fe4c-04cf-4ae9-ef5a-c95015b3ab69",
        "colab": {
          "base_uri": "https://localhost:8080/",
          "height": 238
        }
      },
      "source": [
        "! wget https://bin.equinox.io/c/4VmDzA7iaHb/ngrok-stable-linux-amd64.zip\n",
        "! unzip ngrok-stable-linux-amd64.zip"
      ],
      "execution_count": 0,
      "outputs": [
        {
          "output_type": "stream",
          "text": [
            "--2019-12-27 15:03:04--  https://bin.equinox.io/c/4VmDzA7iaHb/ngrok-stable-linux-amd64.zip\n",
            "Resolving bin.equinox.io (bin.equinox.io)... 3.225.172.191, 3.229.196.117, 52.86.175.38, ...\n",
            "Connecting to bin.equinox.io (bin.equinox.io)|3.225.172.191|:443... connected.\n",
            "HTTP request sent, awaiting response... 200 OK\n",
            "Length: 13773305 (13M) [application/octet-stream]\n",
            "Saving to: ‘ngrok-stable-linux-amd64.zip’\n",
            "\n",
            "\r          ngrok-sta   0%[                    ]       0  --.-KB/s               \rngrok-stable-linux- 100%[===================>]  13.13M  71.7MB/s    in 0.2s    \n",
            "\n",
            "2019-12-27 15:03:05 (71.7 MB/s) - ‘ngrok-stable-linux-amd64.zip’ saved [13773305/13773305]\n",
            "\n",
            "Archive:  ngrok-stable-linux-amd64.zip\n",
            "  inflating: ngrok                   \n"
          ],
          "name": "stdout"
        }
      ]
    },
    {
      "cell_type": "code",
      "metadata": {
        "colab_type": "code",
        "id": "HN3DkrjIqNO7",
        "colab": {}
      },
      "source": [
        "# Start Tensor Board\n",
        "LOG_DIR = './linreg'\n",
        "get_ipython().system_raw(\n",
        "    'tensorboard --logdir {} --host 0.0.0.0 --port 6006 &'\n",
        "    .format(LOG_DIR)\n",
        ")"
      ],
      "execution_count": 0,
      "outputs": []
    },
    {
      "cell_type": "markdown",
      "metadata": {
        "colab_type": "text",
        "id": "-ePv3-f8O7NP"
      },
      "source": [
        "Now you can click on the link below and a new window will open where you can see the computational graph in Tensorboard"
      ]
    },
    {
      "cell_type": "code",
      "metadata": {
        "colab_type": "code",
        "id": "FhTdQQr2tL6W",
        "outputId": "779edc17-39b7-4855-eed8-352c6f9bdf8d",
        "colab": {
          "base_uri": "https://localhost:8080/",
          "height": 34
        }
      },
      "source": [
        "# Start the tunnel\n",
        "get_ipython().system_raw('./ngrok http 6006 &')\n",
        "\n",
        "# Tell the ip so that one can click on it\n",
        "! curl -s http://localhost:4040/api/tunnels | python3 -c \\\n",
        "    \"import sys, json; print(json.load(sys.stdin)['tunnels'][0]['public_url'])\""
      ],
      "execution_count": 0,
      "outputs": [
        {
          "output_type": "stream",
          "text": [
            "http://46d7277f.ngrok.io\n"
          ],
          "name": "stdout"
        }
      ]
    },
    {
      "cell_type": "markdown",
      "metadata": {
        "colab_type": "text",
        "id": "nkS4XL2QtxJk"
      },
      "source": [
        "####Let's run the Graph and feed our start values for slope a and intercept b and fetch the mse loss\n"
      ]
    },
    {
      "cell_type": "markdown",
      "metadata": {
        "id": "cSYgOH1t2E8j",
        "colab_type": "text"
      },
      "source": [
        "#### Listing 3.3  Let the tensors flow, a feed-forward pass                                                                                                              "
      ]
    },
    {
      "cell_type": "code",
      "metadata": {
        "colab_type": "code",
        "id": "91qRdJJkqNrY",
        "outputId": "bbecabf8-b14f-4e8f-d65f-a2de46393263",
        "colab": {
          "base_uri": "https://localhost:8080/",
          "height": 34
        }
      },
      "source": [
        "sess = tf.Session()                            # Starts a session and grabs memory and other resources\n",
        "res_val = sess.run([loss_,], {a_:0,b_:139})    # Letting the variables a=0 b=139 flow through the graph\n",
        "print(res_val)\n",
        "sess.close()                                   # Don't forget to close the session"
      ],
      "execution_count": 0,
      "outputs": [
        {
          "output_type": "stream",
          "text": [
            "[673.4545]\n"
          ],
          "name": "stdout"
        }
      ]
    },
    {
      "cell_type": "markdown",
      "metadata": {
        "colab_type": "text",
        "id": "RmVO643pRWzM"
      },
      "source": [
        "Now we add an optimizer (gradient descent) to the graph and opimize the slope a and the intercept b. The start values are a=0 and b=139 (139 is the mean of the blood pressure and slope a=0 implies that the model predicts the mean for each age). Our learning rate is 0.0004 and we do 80000 updatesteps."
      ]
    },
    {
      "cell_type": "markdown",
      "metadata": {
        "id": "wnB6FLHY5vRm",
        "colab_type": "text"
      },
      "source": [
        "#### Listing 3.5  Fitting the computational graph in TensorFlow                                                                                                                     \n"
      ]
    },
    {
      "cell_type": "code",
      "metadata": {
        "id": "o2StYA16v4vL",
        "colab_type": "code",
        "outputId": "5e3274f7-a647-4099-bf8c-a2fdfb1349b2",
        "colab": {
          "base_uri": "https://localhost:8080/",
          "height": 289
        }
      },
      "source": [
        "train_op_ = tf.train.GradientDescentOptimizer(learning_rate=0.0004).minimize(loss_) #A\n",
        "with tf.Session() as sess: # B\n",
        "    sess.run(tf.global_variables_initializer()) # C\n",
        "    for i in range(80000): # D\n",
        "      _, mse, a_val, b_val = sess.run([train_op_, loss_, a_, b_]) # E\n",
        "      if (i % 5000 == 0): # F\n",
        "        print(a_val, b_val, mse)"
      ],
      "execution_count": 0,
      "outputs": [
        {
          "output_type": "stream",
          "text": [
            "0.22123638 138.99971 673.4545\n",
            "0.47009146 120.60784 469.57272\n",
            "0.69758123 108.80702 398.76883\n",
            "0.84356344 101.23433 369.6125\n",
            "0.9372412 96.37488 357.6062\n",
            "0.99735427 93.25657 352.6622\n",
            "1.0359308 91.25545 350.62622\n",
            "1.0606831 89.97145 349.7879\n",
            "1.0765646 89.14761 349.4427\n",
            "1.0867524 88.619125 349.30054\n",
            "1.0932872 88.280136 349.242\n",
            "1.0975146 88.060844 349.21768\n",
            "1.1001546 87.9239 349.20795\n",
            "1.101867 87.83507 349.20383\n",
            "1.1029385 87.77948 349.20218\n",
            "1.1036739 87.74133 349.20145\n"
          ],
          "name": "stdout"
        }
      ]
    },
    {
      "cell_type": "markdown",
      "metadata": {
        "colab_type": "text",
        "id": "IZgcbnOFVRxs"
      },
      "source": [
        "Let's look at the final values for the slope a and the intercept b. We know form the closed formula solution that:\n",
        "\n",
        "1.   optimal value for a:   1.1050216\n",
        "2.   optimal value for b:   87.67143\n",
        "3.   minimal loss:         349.200787168560\n",
        "\n",
        "After 80000 update steps we are very close to the optimal values\n"
      ]
    },
    {
      "cell_type": "code",
      "metadata": {
        "colab_type": "code",
        "id": "ElBejUYn0u7Q",
        "outputId": "bb9ee8bb-8ab6-4f3a-da64-dc75ef41fc4a",
        "colab": {
          "base_uri": "https://localhost:8080/",
          "height": 34
        }
      },
      "source": [
        " print(a_val, b_val, mse)\n"
      ],
      "execution_count": 0,
      "outputs": [
        {
          "output_type": "stream",
          "text": [
            "1.1041992 87.71411 349.20108\n"
          ],
          "name": "stdout"
        }
      ]
    },
    {
      "cell_type": "code",
      "metadata": {
        "id": "V164z0rB4h1K",
        "colab_type": "code",
        "colab": {}
      },
      "source": [
        ""
      ],
      "execution_count": 0,
      "outputs": []
    }
  ]
}