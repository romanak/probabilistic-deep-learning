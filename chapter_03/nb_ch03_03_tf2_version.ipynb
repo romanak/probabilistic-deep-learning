{
  "nbformat": 4,
  "nbformat_minor": 0,
  "metadata": {
    "colab": {
      "name": "nb_ch03_03.ipynb",
      "provenance": [],
      "collapsed_sections": []
    },
    "language_info": {
      "codemirror_mode": {
        "name": "ipython",
        "version": 3
      },
      "file_extension": ".py",
      "mimetype": "text/x-python",
      "name": "python",
      "nbconvert_exporter": "python",
      "pygments_lexer": "ipython3",
      "version": "3.5.2"
    },
    "kernelspec": {
      "display_name": "Python 3",
      "language": "python",
      "name": "python3"
    }
  },
  "cells": [
    {
      "cell_type": "markdown",
      "metadata": {
        "colab_type": "text",
        "id": "O2sP8Kwe7L9Z"
      },
      "source": [
        "## Fitting a linear regression model with TensorFlow\n",
        "\n",
        "**Goal:** In this notebook you will see how to use TensorFlow to fit the parameters (slope and intercept) of a simple linear regression model via gradient descent (GD). \n",
        "\n",
        "**Usage:** The idea of the notebook is that you try to understand the provided code by running it, checking the output and playing with it by slightly changing the code and rerunning it. \n",
        "\n",
        "**Dataset:** You work again with the systolic blood pressure and age data of 33 American women, which is generated and visualized in the upper part of the notebook. \n",
        "\n",
        "**Content:**\n",
        "\n",
        "* fit a linear model via the sklearn machine learning library of python to get the fitted values of the intercept and slope as reference. \n",
        "\n",
        "* use the TensorFlow library to fit the parameter of the simple linear model via GD with the objective to minimize the MSE loss. \n",
        "    * define the computational graph of the model\n",
        "    * define the loss and the optimizer\n",
        "    * visualize the computational graph in tensorboard\n",
        "    * fit the model parameters via GD and check the current values of the estimated model parameters and the loss after each updatestep\n",
        "    * verify that the estimated parameters converge to the values which you got from the sklearn fit.  \n",
        "\n",
        "\n",
        "[open in colab](https://colab.research.google.com/github/tensorchiefs/dl_book/blob/master/chapter_03/nb_ch03_03_tf2_version.ipynb)\n"
      ]
    },
    {
      "cell_type": "markdown",
      "metadata": {
        "id": "L2ZvGxe4ACZa",
        "colab_type": "text"
      },
      "source": [
        "#### Install correct TF version (colab only)"
      ]
    },
    {
      "cell_type": "code",
      "metadata": {
        "id": "PoyEb0erADLs",
        "colab_type": "code",
        "colab": {
          "base_uri": "https://localhost:8080/",
          "height": 629
        },
        "outputId": "8b1e7e37-43df-44ff-ea58-0314f89cc248"
      },
      "source": [
        "# Execute this cell to be sure to have a compatible TF (2.0) version. \n",
        "# If you are bold you can skip this cell. \n",
        "try: #If running in colab \n",
        "  import google.colab\n",
        "  !pip install tensorflow==2.0.0\n",
        "except:\n",
        "  print('Not running in colab')"
      ],
      "execution_count": 1,
      "outputs": [
        {
          "output_type": "stream",
          "text": [
            "Requirement already satisfied: tensorflow==2.0.0 in /usr/local/lib/python3.6/dist-packages (2.0.0)\n",
            "Requirement already satisfied: gast==0.2.2 in /usr/local/lib/python3.6/dist-packages (from tensorflow==2.0.0) (0.2.2)\n",
            "Requirement already satisfied: astor>=0.6.0 in /usr/local/lib/python3.6/dist-packages (from tensorflow==2.0.0) (0.8.1)\n",
            "Requirement already satisfied: tensorboard<2.1.0,>=2.0.0 in /usr/local/lib/python3.6/dist-packages (from tensorflow==2.0.0) (2.0.2)\n",
            "Requirement already satisfied: numpy<2.0,>=1.16.0 in /usr/local/lib/python3.6/dist-packages (from tensorflow==2.0.0) (1.18.5)\n",
            "Requirement already satisfied: absl-py>=0.7.0 in /usr/local/lib/python3.6/dist-packages (from tensorflow==2.0.0) (0.8.1)\n",
            "Requirement already satisfied: wrapt>=1.11.1 in /usr/local/lib/python3.6/dist-packages (from tensorflow==2.0.0) (1.12.1)\n",
            "Requirement already satisfied: termcolor>=1.1.0 in /usr/local/lib/python3.6/dist-packages (from tensorflow==2.0.0) (1.1.0)\n",
            "Requirement already satisfied: protobuf>=3.6.1 in /usr/local/lib/python3.6/dist-packages (from tensorflow==2.0.0) (3.12.4)\n",
            "Requirement already satisfied: six>=1.10.0 in /usr/local/lib/python3.6/dist-packages (from tensorflow==2.0.0) (1.15.0)\n",
            "Requirement already satisfied: opt-einsum>=2.3.2 in /usr/local/lib/python3.6/dist-packages (from tensorflow==2.0.0) (3.3.0)\n",
            "Requirement already satisfied: google-pasta>=0.1.6 in /usr/local/lib/python3.6/dist-packages (from tensorflow==2.0.0) (0.2.0)\n",
            "Requirement already satisfied: tensorflow-estimator<2.1.0,>=2.0.0 in /usr/local/lib/python3.6/dist-packages (from tensorflow==2.0.0) (2.0.1)\n",
            "Requirement already satisfied: wheel>=0.26 in /usr/local/lib/python3.6/dist-packages (from tensorflow==2.0.0) (0.35.1)\n",
            "Requirement already satisfied: grpcio>=1.8.6 in /usr/local/lib/python3.6/dist-packages (from tensorflow==2.0.0) (1.31.0)\n",
            "Requirement already satisfied: keras-preprocessing>=1.0.5 in /usr/local/lib/python3.6/dist-packages (from tensorflow==2.0.0) (1.1.2)\n",
            "Requirement already satisfied: keras-applications>=1.0.8 in /usr/local/lib/python3.6/dist-packages (from tensorflow==2.0.0) (1.0.8)\n",
            "Requirement already satisfied: google-auth-oauthlib<0.5,>=0.4.1 in /usr/local/lib/python3.6/dist-packages (from tensorboard<2.1.0,>=2.0.0->tensorflow==2.0.0) (0.4.1)\n",
            "Requirement already satisfied: werkzeug>=0.11.15 in /usr/local/lib/python3.6/dist-packages (from tensorboard<2.1.0,>=2.0.0->tensorflow==2.0.0) (1.0.1)\n",
            "Requirement already satisfied: requests<3,>=2.21.0 in /usr/local/lib/python3.6/dist-packages (from tensorboard<2.1.0,>=2.0.0->tensorflow==2.0.0) (2.23.0)\n",
            "Requirement already satisfied: google-auth<2,>=1.6.3 in /usr/local/lib/python3.6/dist-packages (from tensorboard<2.1.0,>=2.0.0->tensorflow==2.0.0) (1.17.2)\n",
            "Requirement already satisfied: markdown>=2.6.8 in /usr/local/lib/python3.6/dist-packages (from tensorboard<2.1.0,>=2.0.0->tensorflow==2.0.0) (3.2.2)\n",
            "Requirement already satisfied: setuptools>=41.0.0 in /usr/local/lib/python3.6/dist-packages (from tensorboard<2.1.0,>=2.0.0->tensorflow==2.0.0) (49.6.0)\n",
            "Requirement already satisfied: h5py in /usr/local/lib/python3.6/dist-packages (from keras-applications>=1.0.8->tensorflow==2.0.0) (2.10.0)\n",
            "Requirement already satisfied: requests-oauthlib>=0.7.0 in /usr/local/lib/python3.6/dist-packages (from google-auth-oauthlib<0.5,>=0.4.1->tensorboard<2.1.0,>=2.0.0->tensorflow==2.0.0) (1.3.0)\n",
            "Requirement already satisfied: chardet<4,>=3.0.2 in /usr/local/lib/python3.6/dist-packages (from requests<3,>=2.21.0->tensorboard<2.1.0,>=2.0.0->tensorflow==2.0.0) (3.0.4)\n",
            "Requirement already satisfied: urllib3!=1.25.0,!=1.25.1,<1.26,>=1.21.1 in /usr/local/lib/python3.6/dist-packages (from requests<3,>=2.21.0->tensorboard<2.1.0,>=2.0.0->tensorflow==2.0.0) (1.24.3)\n",
            "Requirement already satisfied: idna<3,>=2.5 in /usr/local/lib/python3.6/dist-packages (from requests<3,>=2.21.0->tensorboard<2.1.0,>=2.0.0->tensorflow==2.0.0) (2.10)\n",
            "Requirement already satisfied: certifi>=2017.4.17 in /usr/local/lib/python3.6/dist-packages (from requests<3,>=2.21.0->tensorboard<2.1.0,>=2.0.0->tensorflow==2.0.0) (2020.6.20)\n",
            "Requirement already satisfied: pyasn1-modules>=0.2.1 in /usr/local/lib/python3.6/dist-packages (from google-auth<2,>=1.6.3->tensorboard<2.1.0,>=2.0.0->tensorflow==2.0.0) (0.2.8)\n",
            "Requirement already satisfied: rsa<5,>=3.1.4; python_version >= \"3\" in /usr/local/lib/python3.6/dist-packages (from google-auth<2,>=1.6.3->tensorboard<2.1.0,>=2.0.0->tensorflow==2.0.0) (4.6)\n",
            "Requirement already satisfied: cachetools<5.0,>=2.0.0 in /usr/local/lib/python3.6/dist-packages (from google-auth<2,>=1.6.3->tensorboard<2.1.0,>=2.0.0->tensorflow==2.0.0) (4.1.1)\n",
            "Requirement already satisfied: importlib-metadata; python_version < \"3.8\" in /usr/local/lib/python3.6/dist-packages (from markdown>=2.6.8->tensorboard<2.1.0,>=2.0.0->tensorflow==2.0.0) (1.7.0)\n",
            "Requirement already satisfied: oauthlib>=3.0.0 in /usr/local/lib/python3.6/dist-packages (from requests-oauthlib>=0.7.0->google-auth-oauthlib<0.5,>=0.4.1->tensorboard<2.1.0,>=2.0.0->tensorflow==2.0.0) (3.1.0)\n",
            "Requirement already satisfied: pyasn1<0.5.0,>=0.4.6 in /usr/local/lib/python3.6/dist-packages (from pyasn1-modules>=0.2.1->google-auth<2,>=1.6.3->tensorboard<2.1.0,>=2.0.0->tensorflow==2.0.0) (0.4.8)\n",
            "Requirement already satisfied: zipp>=0.5 in /usr/local/lib/python3.6/dist-packages (from importlib-metadata; python_version < \"3.8\"->markdown>=2.6.8->tensorboard<2.1.0,>=2.0.0->tensorflow==2.0.0) (3.1.0)\n"
          ],
          "name": "stdout"
        }
      ]
    },
    {
      "cell_type": "markdown",
      "metadata": {
        "colab_type": "text",
        "id": "IxDnHMLUL64a"
      },
      "source": [
        "#### Imports"
      ]
    },
    {
      "cell_type": "code",
      "metadata": {
        "id": "wT-WLoi3XUyt",
        "colab_type": "code",
        "colab": {}
      },
      "source": [
        "try: #If running in colab \n",
        "    import google.colab\n",
        "    IN_COLAB = True \n",
        "    %tensorflow_version 2.x\n",
        "except:\n",
        "    IN_COLAB = False"
      ],
      "execution_count": 2,
      "outputs": []
    },
    {
      "cell_type": "code",
      "metadata": {
        "id": "I0TuJoV0XVXm",
        "colab_type": "code",
        "colab": {
          "base_uri": "https://localhost:8080/",
          "height": 34
        },
        "outputId": "dc6fb6b7-cb07-4da5-f3b4-1631ce1ebe6f"
      },
      "source": [
        "import tensorflow as tf\n",
        "if (not tf.__version__.startswith('2')): #Checking if tf 2.0 is installed\n",
        "    print('Please install tensorflow 2.0 to run this notebook')\n",
        "print('Tensorflow version: ',tf.__version__, ' running in colab?: ', IN_COLAB)"
      ],
      "execution_count": 3,
      "outputs": [
        {
          "output_type": "stream",
          "text": [
            "Tensorflow version:  2.0.0  running in colab?:  True\n"
          ],
          "name": "stdout"
        }
      ]
    },
    {
      "cell_type": "code",
      "metadata": {
        "colab_type": "code",
        "id": "2Ns6420jRmbQ",
        "colab": {}
      },
      "source": [
        "import numpy as np\n",
        "import matplotlib.pyplot as plt\n",
        "%matplotlib inline\n",
        "plt.style.use('default')\n",
        "from sklearn.linear_model import LinearRegression"
      ],
      "execution_count": 4,
      "outputs": []
    },
    {
      "cell_type": "markdown",
      "metadata": {
        "colab_type": "text",
        "id": "p3c9bh7zMVhP"
      },
      "source": [
        "Here we read in the systolic blood pressure and the age of the 33 American women in our dataset. Then we use the sklearn library to find the optimal values for the slope a and the intercept b."
      ]
    },
    {
      "cell_type": "code",
      "metadata": {
        "colab_type": "code",
        "id": "h5NlSPsPSFR-",
        "colab": {}
      },
      "source": [
        "# Blood Pressure data\n",
        "x = [22, 41, 52, 23, 41, 54, 24, 46, 56, 27, 47, 57, 28, 48, 58,  9, \n",
        "     49, 59, 30, 49, 63, 32, 50, 67, 33, 51, 71, 35, 51, 77, 40, 51, 81]\n",
        "y = [131, 139, 128, 128, 171, 105, 116, 137, 145, 106, 111, 141, 114, \n",
        "     115, 153, 123, 133, 157, 117, 128, 155, 122, 183,\n",
        "     176,  99, 130, 172, 121, 133, 178, 147, 144, 217] \n",
        "x = np.asarray(x, np.float32) \n",
        "y = np.asarray(y, np.float32)"
      ],
      "execution_count": 5,
      "outputs": []
    },
    {
      "cell_type": "code",
      "metadata": {
        "colab_type": "code",
        "id": "cFR-y-HER-Uo",
        "colab": {
          "base_uri": "https://localhost:8080/",
          "height": 489
        },
        "outputId": "7b51854f-87a3-4533-b2c0-6a8dbe8982aa"
      },
      "source": [
        "plt.scatter(x=x,y=y)\n",
        "plt.title(\"blood pressure vs age\")\n",
        "plt.xlabel(\"x (age)\")\n",
        "plt.ylabel(\"y (sbp)\")\n",
        "\n",
        "model = LinearRegression()\n",
        "res = model.fit(x.reshape((len(x),1)), y)\n",
        "predictions = model.predict(x.reshape((len(x),1)))\n",
        "plt.plot(x, predictions)\n",
        "plt.show()\n",
        "print(\"intercept = \",res.intercept_,\"solpe = \", res.coef_[0],)"
      ],
      "execution_count": 6,
      "outputs": [
        {
          "output_type": "display_data",
          "data": {
            "image/png": "[encoded data removed]",
            "text/plain": [
              "<Figure size 640x480 with 1 Axes>"
            ]
          },
          "metadata": {
            "tags": []
          }
        },
        {
          "output_type": "stream",
          "text": [
            "intercept =  87.67143 solpe =  1.1050216\n"
          ],
          "name": "stdout"
        }
      ]
    },
    {
      "cell_type": "markdown",
      "metadata": {
        "colab_type": "text",
        "id": "oxlyNp9uSKYd"
      },
      "source": [
        "## Tensorflow\n",
        "\n",
        "We now use Tensorflow to first define the computational graph, then we will run the graph and automatically get the gradients of the loss w.r.t the variables to update them."
      ]
    },
    {
      "cell_type": "code",
      "metadata": {
        "colab_type": "code",
        "id": "rAaTBfjxo_Vq",
        "colab": {
          "base_uri": "https://localhost:8080/",
          "height": 34
        },
        "outputId": "c2b1f072-6216-4d9c-9785-d494ab3c1b39"
      },
      "source": [
        "import tensorflow as tf\n",
        "print(tf.__version__)"
      ],
      "execution_count": 7,
      "outputs": [
        {
          "output_type": "stream",
          "text": [
            "2.0.0\n"
          ],
          "name": "stdout"
        }
      ]
    },
    {
      "cell_type": "markdown",
      "metadata": {
        "colab_type": "text",
        "id": "7lCheoSrpEmD"
      },
      "source": [
        "#### In Tensorflow we need to define the computational graph first\n",
        "\n"
      ]
    },
    {
      "cell_type": "markdown",
      "metadata": {
        "id": "9gegiCFl2Nk9",
        "colab_type": "text"
      },
      "source": [
        "#### Listing 3.2  Construction of the computational graph in TensorFlow                                                                                                              \n"
      ]
    },
    {
      "cell_type": "code",
      "metadata": {
        "colab_type": "code",
        "id": "LiNOds2vSOz8",
        "colab": {}
      },
      "source": [
        "# x,y are one dimensional numpy arrays\n",
        "# Defining the graph (construction phase)\n",
        "\n",
        "@tf.function\n",
        "def my_func(a_, b_):\n",
        "  x_  = tf.constant(x, name='x_const')                       # Constants, these are fixed tensors holding the data values and cannot be changed by the optimization\n",
        "  y_  = tf.constant(y, name='y_const')  \n",
        "\n",
        "  y_hat_ = a_*x_ + b_                                        # we symbolically calculate y_hat    \n",
        "  loss_ = tf.reduce_mean(tf.square(y_ - y_hat_))             #The final result, the MSE. Still symbolical\n",
        "  return loss_\n",
        "\n",
        "\n",
        "\n",
        "a_  = tf.Variable(0.0, name='a_var')                       # Variables, with starting values, will be optimized later\n",
        "b_  = tf.Variable(139.0, name='b_var')                     # we name them so that they look nicer in the graph\n",
        "\n",
        "logdir=\"linreg/\"\n",
        "writer = tf.summary.create_file_writer(logdir)\n",
        "#writer = tf.summary.FileWriter(\"linreg/\", tf.get_default_graph())\n",
        "#writer.close()\n",
        "tf.summary.trace_on(graph=True, profiler=True)\n",
        "z = my_func(a_, b_)   #needs one call to write the graph\n",
        "with writer.as_default():\n",
        "  tf.summary.trace_export( \n",
        "      name=\"test\",\n",
        "      step=0,\n",
        "      profiler_outdir=logdir)"
      ],
      "execution_count": 8,
      "outputs": []
    },
    {
      "cell_type": "code",
      "metadata": {
        "colab_type": "code",
        "id": "6cyWFC0XqLD0",
        "colab": {
          "base_uri": "https://localhost:8080/",
          "height": 51
        },
        "outputId": "77a50f0d-9246-4a0e-f117-93e670fb7aa3"
      },
      "source": [
        "!ls linreg"
      ],
      "execution_count": 9,
      "outputs": [
        {
          "output_type": "stream",
          "text": [
            "events.out.tfevents.1598869055.8447c0dd6df2.152.19.v2\t   plugins\n",
            "events.out.tfevents.1598869055.8447c0dd6df2.profile-empty\n"
          ],
          "name": "stdout"
        }
      ]
    },
    {
      "cell_type": "markdown",
      "metadata": {
        "colab_type": "text",
        "id": "uilwX07SqYdZ"
      },
      "source": [
        "#### Displaying the computational graph in TensorBord with colab\n",
        "\n",
        "If you are using colab, it's currently (November 2018), there is no straight forward way to show the graph in TensorBoard. However, there is the possibility to tunnel from colab to your local machine. See  https://www.dlology.com/blog/quick-guide-to-run-tensorboard-in-google-colab/ or https://stackoverflow.com/questions/47818822/can-i-use-tensorboard-with-google-colab. We will need to install some things, just run the next 3 cells."
      ]
    },
    {
      "cell_type": "code",
      "metadata": {
        "colab_type": "code",
        "id": "B2xS6LEKtOsJ",
        "colab": {
          "base_uri": "https://localhost:8080/",
          "height": 238
        },
        "outputId": "aa37d87a-7be5-4e91-dcb0-c64068f17cbd"
      },
      "source": [
        "! wget https://bin.equinox.io/c/4VmDzA7iaHb/ngrok-stable-linux-amd64.zip\n",
        "! unzip ngrok-stable-linux-amd64.zip"
      ],
      "execution_count": 10,
      "outputs": [
        {
          "output_type": "stream",
          "text": [
            "--2020-08-31 10:17:40--  https://bin.equinox.io/c/4VmDzA7iaHb/ngrok-stable-linux-amd64.zip\n",
            "Resolving bin.equinox.io (bin.equinox.io)... 34.225.3.211, 34.230.212.40, 18.213.76.145, ...\n",
            "Connecting to bin.equinox.io (bin.equinox.io)|34.225.3.211|:443... connected.\n",
            "HTTP request sent, awaiting response... 200 OK\n",
            "Length: 13773305 (13M) [application/octet-stream]\n",
            "Saving to: ‘ngrok-stable-linux-amd64.zip’\n",
            "\n",
            "ngrok-stable-linux- 100%[===================>]  13.13M  69.1MB/s    in 0.2s    \n",
            "\n",
            "2020-08-31 10:17:40 (69.1 MB/s) - ‘ngrok-stable-linux-amd64.zip’ saved [13773305/13773305]\n",
            "\n",
            "Archive:  ngrok-stable-linux-amd64.zip\n",
            "  inflating: ngrok                   \n"
          ],
          "name": "stdout"
        }
      ]
    },
    {
      "cell_type": "code",
      "metadata": {
        "colab_type": "code",
        "id": "HN3DkrjIqNO7",
        "colab": {}
      },
      "source": [
        "# Start Tensor Board\n",
        "LOG_DIR = './linreg'\n",
        "get_ipython().system_raw(\n",
        "    'tensorboard --logdir {} --host 0.0.0.0 --port 6006 &'\n",
        "    .format(LOG_DIR)\n",
        ")"
      ],
      "execution_count": 11,
      "outputs": []
    },
    {
      "cell_type": "markdown",
      "metadata": {
        "colab_type": "text",
        "id": "-ePv3-f8O7NP"
      },
      "source": [
        "Now you can click on the link below and a new window will open where you can see the computational graph in Tensorboard"
      ]
    },
    {
      "cell_type": "code",
      "metadata": {
        "colab_type": "code",
        "id": "FhTdQQr2tL6W",
        "colab": {
          "base_uri": "https://localhost:8080/",
          "height": 34
        },
        "outputId": "bcdc68cf-00c4-4d46-b556-e92461955cd9"
      },
      "source": [
        "# Start the tunnel\n",
        "get_ipython().system_raw('./ngrok http 6006 &')\n",
        "\n",
        "# Tell the ip so that one can click on it\n",
        "! curl -s http://localhost:4040/api/tunnels | python3 -c \\\n",
        "    \"import sys, json; print(json.load(sys.stdin)['tunnels'][0]['public_url'])\""
      ],
      "execution_count": 13,
      "outputs": [
        {
          "output_type": "stream",
          "text": [
            "https://824c5916c8da.ngrok.io\n"
          ],
          "name": "stdout"
        }
      ]
    },
    {
      "cell_type": "markdown",
      "metadata": {
        "colab_type": "text",
        "id": "nkS4XL2QtxJk"
      },
      "source": [
        "####Let's run the Graph and feed our start values for slope a and intercept b and fetch the mse loss\n"
      ]
    },
    {
      "cell_type": "markdown",
      "metadata": {
        "id": "cSYgOH1t2E8j",
        "colab_type": "text"
      },
      "source": [
        "#### Listing 3.3  Let the tensors flow, a feed-forward pass                                                                                                              "
      ]
    },
    {
      "cell_type": "code",
      "metadata": {
        "colab_type": "code",
        "id": "91qRdJJkqNrY",
        "colab": {
          "base_uri": "https://localhost:8080/",
          "height": 34
        },
        "outputId": "8170fa1f-7c30-409f-a9f6-ba374c1c80fd"
      },
      "source": [
        "#sess = tf.Session()                            # Starts a session and grabs memory and other resources\n",
        "#res_val = sess.run([loss_,], {a_:0,b_:139})    # Letting the variables a=0 b=139 flow through the graph\n",
        "#print(res_val)\n",
        "#sess.close()                                   # Don't forget to close the session\n",
        "\n",
        "res_val =my_func(0, 139)\n",
        "res_val\n",
        "res_val.numpy()"
      ],
      "execution_count": 14,
      "outputs": [
        {
          "output_type": "execute_result",
          "data": {
            "text/plain": [
              "673.4545"
            ]
          },
          "metadata": {
            "tags": []
          },
          "execution_count": 14
        }
      ]
    },
    {
      "cell_type": "markdown",
      "metadata": {
        "colab_type": "text",
        "id": "RmVO643pRWzM"
      },
      "source": [
        "Now we add an optimizer (gradient descent) to the graph and opimize the slope a and the intercept b. The start values are a=0 and b=139 (139 is the mean of the blood pressure and slope a=0 implies that the model predicts the mean for each age). Our learning rate is 0.0004 and we do 80000 updatesteps."
      ]
    },
    {
      "cell_type": "markdown",
      "metadata": {
        "id": "wnB6FLHY5vRm",
        "colab_type": "text"
      },
      "source": [
        "#### Listing 3.5  Fitting the computational graph in TensorFlow                                                                                                                     \n"
      ]
    },
    {
      "cell_type": "code",
      "metadata": {
        "id": "o2StYA16v4vL",
        "colab_type": "code",
        "colab": {
          "base_uri": "https://localhost:8080/",
          "height": 289
        },
        "outputId": "2be55c62-5e83-4d22-8fbf-d9c1afc877c5"
      },
      "source": [
        "#train_op_ = tf.train.GradientDescentOptimizer(learning_rate=0.0004).minimize(loss_) #A\n",
        "#with tf.Session() as sess: # B\n",
        "#    sess.run(tf.global_variables_initializer()) # C\n",
        "#    for i in range(80000): # D\n",
        "#      _, mse, a_val, b_val = sess.run([train_op_, loss_, a_, b_]) # E\n",
        "#      if (i % 5000 == 0): # F\n",
        "#        print(a_val, b_val, mse)\n",
        "#        \n",
        "#        \n",
        "optimizer = tf.keras.optimizers.SGD(0.0004)\n",
        "for i in range(80000): \n",
        "  with tf.GradientTape() as tape:\n",
        "    loss = my_func(a_,b_)\n",
        "    gradients = tape.gradient(loss, [a_,b_])\n",
        "    optimizer.apply_gradients(zip(gradients,[a_,b_]))  \n",
        "  if (i % 5000 == 0): \n",
        "        print(\"Epoch:\",i, \"slope=\",a_.numpy(),\"intercept=\",b_.numpy(), \"mse=\", loss.numpy())"
      ],
      "execution_count": 15,
      "outputs": [
        {
          "output_type": "stream",
          "text": [
            "Epoch: 0 slope= 0.22123638 intercept= 138.99971 mse= 673.4545\n",
            "Epoch: 5000 slope= 0.47009143 intercept= 120.60784 mse= 469.57272\n",
            "Epoch: 10000 slope= 0.6975813 intercept= 108.807014 mse= 398.76877\n",
            "Epoch: 15000 slope= 0.8435634 intercept= 101.23433 mse= 369.61255\n",
            "Epoch: 20000 slope= 0.9372412 intercept= 96.37488 mse= 357.6062\n",
            "Epoch: 25000 slope= 0.99735403 intercept= 93.256584 mse= 352.66214\n",
            "Epoch: 30000 slope= 1.0359306 intercept= 91.25547 mse= 350.62622\n",
            "Epoch: 35000 slope= 1.0606831 intercept= 89.97145 mse= 349.78793\n",
            "Epoch: 40000 slope= 1.0765644 intercept= 89.14761 mse= 349.4427\n",
            "Epoch: 45000 slope= 1.0867523 intercept= 88.61913 mse= 349.30048\n",
            "Epoch: 50000 slope= 1.0932869 intercept= 88.28015 mse= 349.242\n",
            "Epoch: 55000 slope= 1.0975146 intercept= 88.060844 mse= 349.21765\n",
            "Epoch: 60000 slope= 1.1001551 intercept= 87.923874 mse= 349.20798\n",
            "Epoch: 65000 slope= 1.1018678 intercept= 87.83504 mse= 349.20377\n",
            "Epoch: 70000 slope= 1.1029379 intercept= 87.77952 mse= 349.20218\n",
            "Epoch: 75000 slope= 1.1036732 intercept= 87.74137 mse= 349.20145\n"
          ],
          "name": "stdout"
        }
      ]
    },
    {
      "cell_type": "markdown",
      "metadata": {
        "colab_type": "text",
        "id": "IZgcbnOFVRxs"
      },
      "source": [
        "Let's look at the final values for the slope a and the intercept b. We know form the closed formula solution that:\n",
        "\n",
        "1.   optimal value for a:   1.1050216\n",
        "2.   optimal value for b:   87.67143\n",
        "3.   minimal loss:         349.200787168560\n",
        "\n",
        "After 80000 update steps we are very close to the optimal values\n"
      ]
    },
    {
      "cell_type": "code",
      "metadata": {
        "colab_type": "code",
        "id": "ElBejUYn0u7Q",
        "colab": {
          "base_uri": "https://localhost:8080/",
          "height": 34
        },
        "outputId": "bb9e133a-3448-4fb8-ffcd-34b133d99c7c"
      },
      "source": [
        " print(a_.numpy(), b_.numpy(), loss.numpy())\n"
      ],
      "execution_count": 16,
      "outputs": [
        {
          "output_type": "stream",
          "text": [
            "1.1041987 87.71413 349.20105\n"
          ],
          "name": "stdout"
        }
      ]
    },
    {
      "cell_type": "code",
      "metadata": {
        "id": "V164z0rB4h1K",
        "colab_type": "code",
        "colab": {}
      },
      "source": [
        ""
      ],
      "execution_count": null,
      "outputs": []
    }
  ]
}